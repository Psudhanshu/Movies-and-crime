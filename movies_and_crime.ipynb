{
 "cells": [
  {
   "cell_type": "code",
   "execution_count": null,
   "id": "d5f4decc",
   "metadata": {},
   "outputs": [
    {
     "data": {
      "text/html": [
       "<div>\n",
       "<style scoped>\n",
       "    .dataframe tbody tr th:only-of-type {\n",
       "        vertical-align: middle;\n",
       "    }\n",
       "\n",
       "    .dataframe tbody tr th {\n",
       "        vertical-align: top;\n",
       "    }\n",
       "\n",
       "    .dataframe thead th {\n",
       "        text-align: right;\n",
       "    }\n",
       "</style>\n",
       "<table border=\"1\" class=\"dataframe\">\n",
       "  <thead>\n",
       "    <tr style=\"text-align: right;\">\n",
       "      <th></th>\n",
       "      <th>Title</th>\n",
       "      <th>IMDb ID</th>\n",
       "      <th>Release Year</th>\n",
       "      <th>Genre</th>\n",
       "      <th>Cast</th>\n",
       "      <th>Synopsis</th>\n",
       "      <th>Rating</th>\n",
       "      <th>Runtime</th>\n",
       "      <th>Certificate</th>\n",
       "      <th>Number of Votes</th>\n",
       "      <th>Gross Revenue</th>\n",
       "    </tr>\n",
       "  </thead>\n",
       "  <tbody>\n",
       "    <tr>\n",
       "      <th>0</th>\n",
       "      <td>Barry</td>\n",
       "      <td>tt5348176</td>\n",
       "      <td>2018–2023</td>\n",
       "      <td>Action, Comedy, Crime</td>\n",
       "      <td>Stars:, Bill Hader, , Stephen Root, , Sarah Go...</td>\n",
       "      <td>A hit man from the Midwest moves to Los Angele...</td>\n",
       "      <td>8.4</td>\n",
       "      <td>30 min</td>\n",
       "      <td>TV-MA</td>\n",
       "      <td>101883</td>\n",
       "      <td>NaN</td>\n",
       "    </tr>\n",
       "    <tr>\n",
       "      <th>1</th>\n",
       "      <td>John Wick: Chapter 4</td>\n",
       "      <td>tt10366206</td>\n",
       "      <td>2023</td>\n",
       "      <td>Action, Crime, Thriller</td>\n",
       "      <td>Director:, Chad Stahelski, | ,     Stars:, Kea...</td>\n",
       "      <td>John Wick uncovers a path to defeating The Hig...</td>\n",
       "      <td>8.0</td>\n",
       "      <td>169 min</td>\n",
       "      <td>R</td>\n",
       "      <td>195078</td>\n",
       "      <td>NaN</td>\n",
       "    </tr>\n",
       "    <tr>\n",
       "      <th>2</th>\n",
       "      <td>Fast X</td>\n",
       "      <td>tt5433140</td>\n",
       "      <td>2023</td>\n",
       "      <td>Action, Adventure, Crime</td>\n",
       "      <td>Director:, Louis Leterrier, | ,     Stars:, Vi...</td>\n",
       "      <td>Dom Toretto and his family are targeted by the...</td>\n",
       "      <td>6.3</td>\n",
       "      <td>141 min</td>\n",
       "      <td>PG-13</td>\n",
       "      <td>39326</td>\n",
       "      <td>NaN</td>\n",
       "    </tr>\n",
       "    <tr>\n",
       "      <th>3</th>\n",
       "      <td>Love &amp; Death</td>\n",
       "      <td>tt14586350</td>\n",
       "      <td>2023</td>\n",
       "      <td>Biography, Crime, Drama</td>\n",
       "      <td>Stars:, Elizabeth Olsen, , Jesse Plemons, , Li...</td>\n",
       "      <td>Two churchgoing couples enjoy small town famil...</td>\n",
       "      <td>7.6</td>\n",
       "      <td>378 min</td>\n",
       "      <td>TV-MA</td>\n",
       "      <td>17095</td>\n",
       "      <td>NaN</td>\n",
       "    </tr>\n",
       "    <tr>\n",
       "      <th>4</th>\n",
       "      <td>Killers of the Flower Moon</td>\n",
       "      <td>tt5537002</td>\n",
       "      <td>2023</td>\n",
       "      <td>Crime, Drama, History</td>\n",
       "      <td>Director:, Martin Scorsese, | ,     Stars:, Le...</td>\n",
       "      <td>Members of the Osage tribe in the United State...</td>\n",
       "      <td>9.5</td>\n",
       "      <td>206 min</td>\n",
       "      <td>R</td>\n",
       "      <td>895</td>\n",
       "      <td>NaN</td>\n",
       "    </tr>\n",
       "  </tbody>\n",
       "</table>\n",
       "</div>"
      ],
      "text/plain": [
       "                        Title     IMDb ID Release Year  \\\n",
       "0                       Barry   tt5348176    2018–2023   \n",
       "1        John Wick: Chapter 4  tt10366206         2023   \n",
       "2                      Fast X   tt5433140         2023   \n",
       "3                Love & Death  tt14586350         2023   \n",
       "4  Killers of the Flower Moon   tt5537002         2023   \n",
       "\n",
       "                      Genre  \\\n",
       "0     Action, Comedy, Crime   \n",
       "1   Action, Crime, Thriller   \n",
       "2  Action, Adventure, Crime   \n",
       "3   Biography, Crime, Drama   \n",
       "4     Crime, Drama, History   \n",
       "\n",
       "                                                Cast  \\\n",
       "0  Stars:, Bill Hader, , Stephen Root, , Sarah Go...   \n",
       "1  Director:, Chad Stahelski, | ,     Stars:, Kea...   \n",
       "2  Director:, Louis Leterrier, | ,     Stars:, Vi...   \n",
       "3  Stars:, Elizabeth Olsen, , Jesse Plemons, , Li...   \n",
       "4  Director:, Martin Scorsese, | ,     Stars:, Le...   \n",
       "\n",
       "                                            Synopsis  Rating  Runtime  \\\n",
       "0  A hit man from the Midwest moves to Los Angele...     8.4   30 min   \n",
       "1  John Wick uncovers a path to defeating The Hig...     8.0  169 min   \n",
       "2  Dom Toretto and his family are targeted by the...     6.3  141 min   \n",
       "3  Two churchgoing couples enjoy small town famil...     7.6  378 min   \n",
       "4  Members of the Osage tribe in the United State...     9.5  206 min   \n",
       "\n",
       "  Certificate  Number of Votes Gross Revenue  \n",
       "0       TV-MA           101883           NaN  \n",
       "1           R           195078           NaN  \n",
       "2       PG-13            39326           NaN  \n",
       "3       TV-MA            17095           NaN  \n",
       "4           R              895           NaN  "
      ]
     },
     "execution_count": 9,
     "metadata": {},
     "output_type": "execute_result"
    }
   ],
   "source": [
    "# lets first import the crime movies/tv/ series dataset\n",
    "import pandas as pd  \n",
    "crime_series = pd.read_csv(\"crime_series.csv\")\n",
    "crime_series.head()"
   ]
  },
  {
   "cell_type": "code",
   "execution_count": 11,
   "id": "0ccb9136",
   "metadata": {},
   "outputs": [
    {
     "data": {
      "text/plain": [
       "(11920, 11)"
      ]
     },
     "execution_count": 11,
     "metadata": {},
     "output_type": "execute_result"
    }
   ],
   "source": [
    "crime_series.shape"
   ]
  },
  {
   "cell_type": "code",
   "execution_count": 14,
   "id": "d74056b6",
   "metadata": {},
   "outputs": [
    {
     "data": {
      "text/plain": [
       "Index(['Title', 'IMDb ID', 'Release Year', 'Genre', 'Cast', 'Synopsis',\n",
       "       'Rating', 'Runtime', 'Certificate', 'Number of Votes', 'Gross Revenue'],\n",
       "      dtype='object')"
      ]
     },
     "execution_count": 14,
     "metadata": {},
     "output_type": "execute_result"
    }
   ],
   "source": [
    "crime_series.columns"
   ]
  },
  {
   "cell_type": "code",
   "execution_count": 17,
   "id": "08c97f1e",
   "metadata": {},
   "outputs": [
    {
     "data": {
      "text/plain": [
       "'Two churchgoing couples enjoy small town family life in Texas - until somebody picks up an axe.'"
      ]
     },
     "execution_count": 17,
     "metadata": {},
     "output_type": "execute_result"
    }
   ],
   "source": [
    "crime_series.Synopsis[3]"
   ]
  },
  {
   "cell_type": "code",
   "execution_count": 18,
   "id": "f2dfc6f2",
   "metadata": {},
   "outputs": [
    {
     "data": {
      "text/html": [
       "<div>\n",
       "<style scoped>\n",
       "    .dataframe tbody tr th:only-of-type {\n",
       "        vertical-align: middle;\n",
       "    }\n",
       "\n",
       "    .dataframe tbody tr th {\n",
       "        vertical-align: top;\n",
       "    }\n",
       "\n",
       "    .dataframe thead th {\n",
       "        text-align: right;\n",
       "    }\n",
       "</style>\n",
       "<table border=\"1\" class=\"dataframe\">\n",
       "  <thead>\n",
       "    <tr style=\"text-align: right;\">\n",
       "      <th></th>\n",
       "      <th>publish_date</th>\n",
       "      <th>headline_text</th>\n",
       "    </tr>\n",
       "  </thead>\n",
       "  <tbody>\n",
       "    <tr>\n",
       "      <th>0</th>\n",
       "      <td>20030219</td>\n",
       "      <td>aba decides against community broadcasting lic...</td>\n",
       "    </tr>\n",
       "    <tr>\n",
       "      <th>1</th>\n",
       "      <td>20030219</td>\n",
       "      <td>act fire witnesses must be aware of defamation</td>\n",
       "    </tr>\n",
       "    <tr>\n",
       "      <th>2</th>\n",
       "      <td>20030219</td>\n",
       "      <td>a g calls for infrastructure protection summit</td>\n",
       "    </tr>\n",
       "    <tr>\n",
       "      <th>3</th>\n",
       "      <td>20030219</td>\n",
       "      <td>air nz staff in aust strike for pay rise</td>\n",
       "    </tr>\n",
       "    <tr>\n",
       "      <th>4</th>\n",
       "      <td>20030219</td>\n",
       "      <td>air nz strike to affect australian travellers</td>\n",
       "    </tr>\n",
       "  </tbody>\n",
       "</table>\n",
       "</div>"
      ],
      "text/plain": [
       "   publish_date                                      headline_text\n",
       "0      20030219  aba decides against community broadcasting lic...\n",
       "1      20030219     act fire witnesses must be aware of defamation\n",
       "2      20030219     a g calls for infrastructure protection summit\n",
       "3      20030219           air nz staff in aust strike for pay rise\n",
       "4      20030219      air nz strike to affect australian travellers"
      ]
     },
     "execution_count": 18,
     "metadata": {},
     "output_type": "execute_result"
    }
   ],
   "source": [
    "# importing a news headlines dataset\n",
    "news_all = pd.read_csv(\"abcnews-date-text.csv\")\n",
    "news_all.head()"
   ]
  },
  {
   "cell_type": "code",
   "execution_count": null,
   "id": "c25d7719",
   "metadata": {},
   "outputs": [],
   "source": [
    "# the main problem now with this headline_text column and this news_all data is that it has all headlines globally \n",
    "# I just want crime news headlines \n",
    "# now I need to find how to filter the headline_text column \n",
    "# one thing I can do is add a tag column using a function that looks up the headline_text and gives it a tag of which \n",
    "# news category it falls into\n",
    "\n",
    "\n",
    "# step 1: scan headline_text\n",
    "# step 2: look for keywords of crime ( so we need a set of crime words)\n",
    "# step 2.5 : idea to explore => if we can add an ai agent to do this for us in this code cause we need to generate a tag using headline_text \n",
    "# step 3: filter data.\n"
   ]
  }
 ],
 "metadata": {
  "kernelspec": {
   "display_name": "Python 3",
   "language": "python",
   "name": "python3"
  },
  "language_info": {
   "codemirror_mode": {
    "name": "ipython",
    "version": 3
   },
   "file_extension": ".py",
   "mimetype": "text/x-python",
   "name": "python",
   "nbconvert_exporter": "python",
   "pygments_lexer": "ipython3",
   "version": "3.12.1"
  }
 },
 "nbformat": 4,
 "nbformat_minor": 5
}
