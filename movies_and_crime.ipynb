{
 "cells": [
  {
   "cell_type": "markdown",
   "id": "da3fca3e",
   "metadata": {},
   "source": [
    "## 🎯 Project Goal Recap\n",
    "\n",
    "You’ll build a pipeline that:\n",
    "\n",
    "- Ingests plot summaries (IMDb, Wikipedia, etc.)\n",
    "- Compares their portrayed crime(s) with real-world data (FBI)\n",
    "- Classifies:\n",
    "    1. **What crime type is portrayed** in the media\n",
    "    2. **If it's over- or underrepresented** compared to real-world data\n",
    "- Deploys an app where users input a movie/show and get a “realism” analysis"
   ]
  },
  {
   "cell_type": "markdown",
   "id": "208d6fcc",
   "metadata": {},
   "source": [
    "| Step | Tool/Library |\n",
    "| --- | --- |\n",
    "| Data Collection | IMDb Datasets, TMDb API, Wikipedia API, FBI UCR/NIBRS data |\n",
    "| Preprocessing | Python, Pandas, spaCy or NLTK |\n",
    "| NLP Feature Extraction | TF-IDF, BERT via `transformers`, Sentence-BERT |\n",
    "| ML Model | Scikit-learn (Logistic Regression, SVM), optionally XGBoost or LightGBM |\n",
    "| Clustering | Scikit-learn (KMeans), Gensim (LDA) |\n",
    "| Evaluation | Confusion Matrix, ROC-AUC, F1-Score |\n",
    "| Visualization | Seaborn, Matplotlib, Plotly |\n",
    "| Deployment | Streamlit (best for fast prototyping), Flask (for production apps) |\n",
    "| Optional | HuggingFace, Docker, Weights & Biases (tracking) |"
   ]
  },
  {
   "cell_type": "markdown",
   "id": "1b29947d",
   "metadata": {},
   "source": [
    "### **Phase 1: Data Collection & Cleaning**\n",
    "\n",
    "**1. Collect Media Data**\n",
    "\n",
    "- Scrape or download movie/show plot summaries:\n",
    "    - Use IMDb datasets or TMDb API (`python-tmdb`)\n",
    "    - Supplement with Wikipedia plot summaries via Wikipedia API\n",
    "\n",
    "**2. Collect Crime Data**\n",
    "\n",
    "- Use FBI UCR or NIBRS datasets (CSV available)\n",
    "    - Clean data to group crimes into buckets: e.g., violent (murder, assault), property (theft, fraud), etc.\n",
    "\n",
    "**3. Build a Combined Dataset**\n",
    "\n",
    "- For each movie/show, label:\n",
    "    - Primary crime shown (if available from metadata or you classify manually)\n",
    "    - Year released\n",
    "- For FBI data:\n",
    "    - Aggregate crime frequency by type and year"
   ]
  },
  {
   "cell_type": "code",
   "execution_count": 1,
   "id": "a44b2858",
   "metadata": {},
   "outputs": [
    {
     "name": "stdout",
     "output_type": "stream",
     "text": [
      "<class 'pandas.core.frame.DataFrame'>\n",
      "RangeIndex: 117352 entries, 0 to 117351\n",
      "Data columns (total 30 columns):\n",
      " #   Column       Non-Null Count   Dtype \n",
      "---  ------       --------------   ----- \n",
      " 0   title        117352 non-null  object\n",
      " 1   plot         117352 non-null  object\n",
      " 2   Action       117352 non-null  int64 \n",
      " 3   Adult        117352 non-null  int64 \n",
      " 4   Adventure    117352 non-null  int64 \n",
      " 5   Animation    117352 non-null  int64 \n",
      " 6   Biography    117352 non-null  int64 \n",
      " 7   Comedy       117352 non-null  int64 \n",
      " 8   Crime        117352 non-null  int64 \n",
      " 9   Documentary  117352 non-null  int64 \n",
      " 10  Drama        117352 non-null  int64 \n",
      " 11  Family       117352 non-null  int64 \n",
      " 12  Fantasy      117352 non-null  int64 \n",
      " 13  Game-Show    117352 non-null  int64 \n",
      " 14  History      117352 non-null  int64 \n",
      " 15  Horror       117352 non-null  int64 \n",
      " 16  Lifestyle    117352 non-null  int64 \n",
      " 17  Music        117352 non-null  int64 \n",
      " 18  Musical      117352 non-null  int64 \n",
      " 19  Mystery      117352 non-null  int64 \n",
      " 20  News         117352 non-null  int64 \n",
      " 21  Reality-TV   117352 non-null  int64 \n",
      " 22  Romance      117352 non-null  int64 \n",
      " 23  Sci-Fi       117352 non-null  int64 \n",
      " 24  Short        117352 non-null  int64 \n",
      " 25  Sport        117352 non-null  int64 \n",
      " 26  Talk-Show    117352 non-null  int64 \n",
      " 27  Thriller     117352 non-null  int64 \n",
      " 28  War          117352 non-null  int64 \n",
      " 29  Western      117352 non-null  int64 \n",
      "dtypes: int64(28), object(2)\n",
      "memory usage: 26.9+ MB\n"
     ]
    }
   ],
   "source": [
    "%matplotlib inline\n",
    "\n",
    "import matplotlib\n",
    "import numpy as np\n",
    "import matplotlib.pyplot as plt\n",
    "import pandas as pd\n",
    "\n",
    "df = pd.read_csv(\"movies_genres.csv\", delimiter='\\t')\n",
    "df.info()"
   ]
  },
  {
   "cell_type": "code",
   "execution_count": null,
   "id": "3645e2de",
   "metadata": {},
   "outputs": [],
   "source": []
  }
 ],
 "metadata": {
  "kernelspec": {
   "display_name": "Python 3",
   "language": "python",
   "name": "python3"
  },
  "language_info": {
   "codemirror_mode": {
    "name": "ipython",
    "version": 3
   },
   "file_extension": ".py",
   "mimetype": "text/x-python",
   "name": "python",
   "nbconvert_exporter": "python",
   "pygments_lexer": "ipython3",
   "version": "3.12.1"
  }
 },
 "nbformat": 4,
 "nbformat_minor": 5
}
